{
  "nbformat": 4,
  "nbformat_minor": 5,
  "metadata": {
    "colab": {
      "name": "evraz_lama_model_v2.ipynb",
      "provenance": [],
      "collapsed_sections": []
    },
    "kernelspec": {
      "display_name": "Python 3",
      "language": "python",
      "name": "python3"
    },
    "language_info": {
      "codemirror_mode": {
        "name": "ipython",
        "version": 3
      },
      "file_extension": ".py",
      "mimetype": "text/x-python",
      "name": "python",
      "nbconvert_exporter": "python",
      "pygments_lexer": "ipython3",
      "version": "3.8.5"
    },
    "toc": {
      "base_numbering": 1,
      "nav_menu": {},
      "number_sections": true,
      "sideBar": true,
      "skip_h1_title": false,
      "title_cell": "Table of Contents",
      "title_sidebar": "Contents",
      "toc_cell": false,
      "toc_position": {},
      "toc_section_display": true,
      "toc_window_display": false
    }
  },
  "cells": [
    {
      "cell_type": "code",
      "metadata": {
        "id": "p602u8gw0BUV"
      },
      "source": [
        "# !pip install lightautoml\n",
        "# !pip install category_encoders"
      ],
      "id": "p602u8gw0BUV",
      "execution_count": 2,
      "outputs": []
    },
    {
      "cell_type": "code",
      "metadata": {
        "id": "78b262fa"
      },
      "source": [
        "import pandas as pd\n",
        "import numpy as np\n",
        "import typing\n",
        "import torch\n",
        "from tqdm import tqdm_notebook\n",
        "from sklearn.model_selection import train_test_split\n",
        "from category_encoders import CountEncoder\n",
        "from matplotlib import pyplot as plt\n",
        "import joblib\n",
        "\n",
        "from lightautoml.automl.presets.tabular_presets import TabularUtilizedAutoML\n",
        "from lightautoml.tasks import Task\n",
        "%matplotlib inline"
      ],
      "id": "78b262fa",
      "execution_count": 26,
      "outputs": []
    },
    {
      "cell_type": "code",
      "metadata": {
        "colab": {
          "base_uri": "https://localhost:8080/"
        },
        "id": "D93eh39J_VFR",
        "outputId": "72035861-5435-4258-c90a-417abcc3e819"
      },
      "source": [
        "!git clone https://github.com/SlayZar/evr_hack_comp21.git"
      ],
      "id": "D93eh39J_VFR",
      "execution_count": 4,
      "outputs": [
        {
          "output_type": "stream",
          "name": "stdout",
          "text": [
            "Cloning into 'evr_hack_comp21'...\n",
            "remote: Enumerating objects: 81, done.\u001b[K\n",
            "remote: Counting objects: 100% (81/81), done.\u001b[K\n",
            "remote: Compressing objects: 100% (66/66), done.\u001b[K\n",
            "remote: Total 81 (delta 31), reused 52 (delta 12), pack-reused 0\u001b[K\n",
            "Unpacking objects: 100% (81/81), done.\n"
          ]
        }
      ]
    },
    {
      "cell_type": "code",
      "metadata": {
        "id": "YXX47ohGlHp_"
      },
      "source": [
        "df = pd.read_pickle('evr_hack_comp21/data/train_features')\n",
        "test_df = pd.read_pickle('evr_hack_comp21/data/test_features')"
      ],
      "id": "YXX47ohGlHp_",
      "execution_count": 27,
      "outputs": []
    },
    {
      "cell_type": "code",
      "metadata": {
        "id": "cA4kDyvaCcHA"
      },
      "source": [
        "not_fit = False # Если не хотим обучать, ставим True и не запускаем ячейки в группах \"Модели...\""
      ],
      "id": "cA4kDyvaCcHA",
      "execution_count": 52,
      "outputs": []
    },
    {
      "cell_type": "markdown",
      "metadata": {
        "id": "cd2WQWHCfaON"
      },
      "source": [
        "## EDA analisys"
      ],
      "id": "cd2WQWHCfaON"
    },
    {
      "cell_type": "code",
      "metadata": {
        "colab": {
          "base_uri": "https://localhost:8080/",
          "height": 444
        },
        "id": "plKoSjt5Z_8v",
        "outputId": "f6ce113d-3883-4ca5-bd1c-be0136614427"
      },
      "source": [
        "fig, ((ax1, ax2), (ax3, ax4)) = plt.subplots(2, 2, figsize=(14,7))\n",
        "\n",
        "ax1.hist(df['C'], bins=25)\n",
        "ax1.grid()\n",
        "ax1.set_title('C')\n",
        "ax2.hist(np.log(df['C']), bins=25)\n",
        "ax2.grid()\n",
        "ax2.set_title('Log C')\n",
        "ax3.hist(df['TST'], bins=25)\n",
        "ax3.grid()\n",
        "ax3.set_title('TST')\n",
        "ax4.hist(np.log(df['TST']), bins=25)\n",
        "ax4.set_title('Log TST')\n",
        "ax4.grid()\n",
        "plt.show()"
      ],
      "id": "plKoSjt5Z_8v",
      "execution_count": 28,
      "outputs": [
        {
          "output_type": "display_data",
          "data": {
            "image/png": "[encoded data removed]",
            "text/plain": [
              "<Figure size 1008x504 with 4 Axes>"
            ]
          },
          "metadata": {
            "needs_background": "light"
          }
        }
      ]
    },
    {
      "cell_type": "code",
      "metadata": {
        "id": "GSxBTdgKmSUc"
      },
      "source": [
        "df['log_C'] = np.log(df['C'])\n",
        "test_df['C'] = 0\n",
        "test_df['TST'] = 0\n",
        "test_df['log_C'] = 0"
      ],
      "id": "GSxBTdgKmSUc",
      "execution_count": 29,
      "outputs": []
    },
    {
      "cell_type": "code",
      "metadata": {
        "colab": {
          "base_uri": "https://localhost:8080/"
        },
        "id": "K2_tXQiunki2",
        "outputId": "cadbdd80-242b-4bb4-f508-8e495c51d6db"
      },
      "source": [
        "test_df.shape, df.shape"
      ],
      "id": "K2_tXQiunki2",
      "execution_count": 30,
      "outputs": [
        {
          "output_type": "execute_result",
          "data": {
            "text/plain": [
              "((780, 585), (2137, 585))"
            ]
          },
          "metadata": {},
          "execution_count": 30
        }
      ]
    },
    {
      "cell_type": "code",
      "metadata": {
        "id": "Ncd_ITE0qSR4"
      },
      "source": [
        "cat_features = ['lom_plavka_NMZ',\t'lom_plavka_NAPR_ZAD', 'lom_plavka_TIPE_FUR', 'lom_plavka_TIPE_GOL']\n",
        "dropcols = ['TST', 'C', 'NPLV', 'plavka_VR_NACH',\t'plavka_VR_KON', 'log_C']"
      ],
      "id": "Ncd_ITE0qSR4",
      "execution_count": 31,
      "outputs": []
    },
    {
      "cell_type": "code",
      "metadata": {
        "id": "aTtj30Xg5N1l"
      },
      "source": [
        "for col in cat_features:\n",
        "    df['for_cnt_cat_' + col] = df[col].copy()\n",
        "    test_df['for_cnt_cat_' + col] = test_df[col].copy()\n",
        "ce = CountEncoder(cols=['for_cnt_cat_' + x for x in cat_features])\n",
        "df = ce.fit_transform(df)\n",
        "test_df = ce.transform(test_df)"
      ],
      "id": "aTtj30Xg5N1l",
      "execution_count": 32,
      "outputs": []
    },
    {
      "cell_type": "code",
      "metadata": {
        "id": "811f6b6d"
      },
      "source": [
        "N_THREADS = 4 # threads cnt for lgbm and linear models\n",
        "N_FOLDS = 3 # folds cnt for AutoML\n",
        "RANDOM_STATE = 42 # fixed random state for various reasons\n",
        "TIMEOUT = 60 # Time in seconds for automl run USE TIMEOUT = 1700 for perfect score\n",
        "\n",
        "np.random.seed(RANDOM_STATE)\n",
        "torch.set_num_threads(N_THREADS)"
      ],
      "id": "811f6b6d",
      "execution_count": 41,
      "outputs": []
    },
    {
      "cell_type": "code",
      "metadata": {
        "id": "xQ6EA_-xfaO8"
      },
      "source": [
        "def metric1(answers, user_csv):\n",
        "    delta_c = np.abs(answers - user_csv)\n",
        "    hit_rate_c = np.int64(delta_c < 20)\n",
        "\n",
        "    N = np.size(answers)\n",
        "\n",
        "    return np.sum(hit_rate_c) / N\n",
        "    \n",
        "def metric2(answers, user_csv):\n",
        "    delta_t = np.abs(np.array(answers) - np.array(user_csv))\n",
        "    hit_rate_t = np.int64(delta_t < 0.02)\n",
        "\n",
        "    N = np.size(answers)\n",
        "\n",
        "    return np.sum(hit_rate_t) / N"
      ],
      "id": "xQ6EA_-xfaO8",
      "execution_count": 42,
      "outputs": []
    },
    {
      "cell_type": "code",
      "metadata": {
        "id": "JOXz1EeLXB-o"
      },
      "source": [
        "new_cols = joblib.load('evr_hack_comp21/models/model_cols')"
      ],
      "id": "JOXz1EeLXB-o",
      "execution_count": 43,
      "outputs": []
    },
    {
      "cell_type": "code",
      "metadata": {
        "colab": {
          "base_uri": "https://localhost:8080/"
        },
        "id": "tz5cs2ZzUbzW",
        "outputId": "5fe727df-4635-4930-ab4b-a0adc3ee33a8"
      },
      "source": [
        "df.shape[1], len(new_cols)"
      ],
      "id": "tz5cs2ZzUbzW",
      "execution_count": 44,
      "outputs": [
        {
          "output_type": "execute_result",
          "data": {
            "text/plain": [
              "(589, 286)"
            ]
          },
          "metadata": {},
          "execution_count": 44
        }
      ]
    },
    {
      "cell_type": "markdown",
      "metadata": {
        "id": "YgnzsVfLAtVS"
      },
      "source": [
        "### Модель содержания углерода"
      ],
      "id": "YgnzsVfLAtVS"
    },
    {
      "cell_type": "code",
      "metadata": {
        "id": "CnZuKLMj8mYF"
      },
      "source": [
        "task = Task('reg',  loss='mae', metric = metric2, greater_is_better=True)\n",
        "\n",
        "roles = {\n",
        "    'target': 'log_C',\n",
        "    'drop': ['C', 'TST', 'NPLV', 'plavka_VR_NACH',\t'plavka_VR_KON']\n",
        "}\n",
        "df=df[~df.C.isnull()]\n",
        "automl2 = TabularUtilizedAutoML(task = task,\n",
        "                               timeout = TIMEOUT,\n",
        "                               cpu_limit = N_THREADS,\n",
        "                               reader_params = {'n_jobs': N_THREADS,\n",
        "                                                'cv': N_FOLDS,\n",
        "                                                'random_state': RANDOM_STATE})\n",
        "\n",
        "oof_pred = automl2.fit_predict(df[list(new_cols) + ['log_C', 'TST']], roles = roles)\n",
        "output2 = pd.DataFrame({'NPLV': test_df['NPLV'],\n",
        "                       'C': np.exp(automl2.predict(test_df[list(new_cols)]).data[:, 0])})"
      ],
      "id": "CnZuKLMj8mYF",
      "execution_count": 45,
      "outputs": []
    },
    {
      "cell_type": "markdown",
      "metadata": {
        "id": "nTCIGbOsAdGL"
      },
      "source": [
        "### Модель температуры чугуна"
      ],
      "id": "nTCIGbOsAdGL"
    },
    {
      "cell_type": "code",
      "metadata": {
        "id": "c77216e8"
      },
      "source": [
        "task = Task('reg', loss = 'rmsle', \n",
        "            metric = metric1, greater_is_better=True)\n",
        "\n",
        "roles = {\n",
        "    'target': 'TST',\n",
        "    'drop': ['C', 'NPLV', 'plavka_VR_NACH',\t'plavka_VR_KON']\n",
        "}\n",
        "automl = TabularUtilizedAutoML(task = task,\n",
        "                               timeout = TIMEOUT,\n",
        "                               cpu_limit = N_THREADS,\n",
        "                               reader_params = {'n_jobs': N_THREADS,\n",
        "                                                'cv': N_FOLDS,\n",
        "                                                'random_state': RANDOM_STATE})\n",
        "\n",
        "oof_pred = automl.fit_predict(df[list(new_cols) + ['TST', 'log_C']], roles = roles)"
      ],
      "id": "c77216e8",
      "execution_count": 46,
      "outputs": []
    },
    {
      "cell_type": "markdown",
      "metadata": {
        "id": "Wx0STYgaAmp2"
      },
      "source": [
        "### Сабмит"
      ],
      "id": "Wx0STYgaAmp2"
    },
    {
      "cell_type": "code",
      "metadata": {
        "id": "JgYPo-O4CBBb"
      },
      "source": [
        "if not_fit:\n",
        "  automl = joblib.load('automl')\n",
        "  automl2 = joblib.load('automl2')"
      ],
      "id": "JgYPo-O4CBBb",
      "execution_count": 53,
      "outputs": []
    },
    {
      "cell_type": "code",
      "metadata": {
        "id": "e0d6dfe7"
      },
      "source": [
        "test_df['log_C'] = automl2.predict(test_df[new_cols]).data[:, 0]\n",
        "\n",
        "output = pd.DataFrame({'NPLV': test_df['NPLV'],\n",
        "                       'TST': automl.predict(test_df[list(new_cols)+['log_C']]).data[:, 0]})"
      ],
      "id": "e0d6dfe7",
      "execution_count": 54,
      "outputs": []
    },
    {
      "cell_type": "code",
      "metadata": {
        "id": "tXzGxn25AVoZ"
      },
      "source": [
        "ss = pd.read_csv('evr_hack_comp21/data/sample_submission.csv')\n",
        "ss.drop(['TST', 'C'], axis=1).merge(output, on =['NPLV']).merge(output2, on =['NPLV'])\\\n",
        "        .to_csv('lama_60_model_v2.csv', index=False)"
      ],
      "id": "tXzGxn25AVoZ",
      "execution_count": 55,
      "outputs": []
    },
    {
      "cell_type": "code",
      "metadata": {
        "id": "nPf8x3y0rRTC"
      },
      "source": [
        ""
      ],
      "id": "nPf8x3y0rRTC",
      "execution_count": null,
      "outputs": []
    },
    {
      "cell_type": "code",
      "metadata": {
        "id": "QyXojVHaq_sD"
      },
      "source": [
        "# joblib.dump(automl, 'evr_hack_comp21/models/automl')\n",
        "# joblib.dump(automl2, 'evr_hack_comp21/models/automl2')"
      ],
      "id": "QyXojVHaq_sD",
      "execution_count": null,
      "outputs": []
    },
    {
      "cell_type": "code",
      "metadata": {
        "id": "VC2RHfWiq_ub"
      },
      "source": [
        ""
      ],
      "id": "VC2RHfWiq_ub",
      "execution_count": null,
      "outputs": []
    },
    {
      "cell_type": "code",
      "metadata": {
        "id": "DDqML98wq_xc"
      },
      "source": [
        ""
      ],
      "id": "DDqML98wq_xc",
      "execution_count": null,
      "outputs": []
    },
    {
      "cell_type": "code",
      "metadata": {
        "id": "MgGH83d2q_zx"
      },
      "source": [
        ""
      ],
      "id": "MgGH83d2q_zx",
      "execution_count": null,
      "outputs": []
    },
    {
      "cell_type": "code",
      "metadata": {
        "id": "inZFlpiErldv"
      },
      "source": [
        ""
      ],
      "id": "inZFlpiErldv",
      "execution_count": null,
      "outputs": []
    }
  ]
}